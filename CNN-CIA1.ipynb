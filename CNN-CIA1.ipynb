{
 "cells": [
  {
   "cell_type": "code",
   "execution_count": 1,
   "id": "6d2ef21d",
   "metadata": {},
   "outputs": [],
   "source": [
    "import tensorflow as tf\n",
    "from tensorflow import keras\n",
    "import pandas as pd"
   ]
  },
  {
   "cell_type": "code",
   "execution_count": 2,
   "id": "50a50300",
   "metadata": {},
   "outputs": [],
   "source": [
    "(train_images, train_labels), (test_images, test_labels) = keras.datasets.cifar10.load_data()"
   ]
  },
  {
   "cell_type": "code",
   "execution_count": 3,
   "id": "67082a59",
   "metadata": {},
   "outputs": [],
   "source": [
    "train_images = train_images/255.0\n",
    "test_images = test_images/255.0\n"
   ]
  },
  {
   "cell_type": "code",
   "execution_count": 14,
   "id": "cbd4235d",
   "metadata": {},
   "outputs": [],
   "source": [
    "model = keras.models.Sequential()\n",
    "model.add(keras.layers.Conv2D(32, (3, 3), activation='relu'))\n",
    "model.add(keras.layers.MaxPooling2D((2, 2)))\n",
    "model.add(keras.layers.Conv2D(64, (3, 3), activation='relu'))\n",
    "model.add(keras.layers.MaxPooling2D((2, 2)))\n",
    "model.add(keras.layers.Conv2D(64, (3, 3), activation='relu'))\n",
    "model.add(keras.layers.MaxPooling2D((2, 2)))\n",
    "model.add(keras.layers.Flatten())\n",
    "model.add(keras.layers.Dense(64, activation='relu'))\n",
    "model.add(keras.layers.Dense(10))"
   ]
  },
  {
   "cell_type": "code",
   "execution_count": 18,
   "id": "b463fec6",
   "metadata": {},
   "outputs": [],
   "source": [
    "opt = keras.optimizers.Adam(learning_rate=0.01)\n",
    "loss = keras.losses.SparseCategoricalCrossentropy(from_logits=True)\n",
    "\n",
    "model.compile(optimizer=opt,loss=loss,metrics=['accuracy'])"
   ]
  },
  {
   "cell_type": "code",
   "execution_count": 20,
   "id": "0cc45ec3",
   "metadata": {},
   "outputs": [
    {
     "name": "stdout",
     "output_type": "stream",
     "text": [
      "Epoch 1/50\n",
      "1563/1563 [==============================] - 55s 35ms/step - loss: 1.8906 - accuracy: 0.2860\n",
      "Epoch 2/50\n",
      "1563/1563 [==============================] - 47s 30ms/step - loss: 1.7480 - accuracy: 0.3418\n",
      "Epoch 3/50\n",
      "1563/1563 [==============================] - 45s 29ms/step - loss: 1.7065 - accuracy: 0.3608\n",
      "Epoch 4/50\n",
      "1563/1563 [==============================] - 44s 28ms/step - loss: 1.6847 - accuracy: 0.3697\n",
      "Epoch 5/50\n",
      "1563/1563 [==============================] - 49s 31ms/step - loss: 1.6763 - accuracy: 0.3743\n",
      "Epoch 6/50\n",
      "1563/1563 [==============================] - 48s 31ms/step - loss: 1.6640 - accuracy: 0.3806\n",
      "Epoch 7/50\n",
      "1563/1563 [==============================] - 48s 31ms/step - loss: 1.6510 - accuracy: 0.3885\n",
      "Epoch 8/50\n",
      "1563/1563 [==============================] - 49s 31ms/step - loss: 1.6293 - accuracy: 0.3956\n",
      "Epoch 9/50\n",
      "1563/1563 [==============================] - 49s 31ms/step - loss: 1.6132 - accuracy: 0.4081\n",
      "Epoch 10/50\n",
      "1563/1563 [==============================] - 49s 31ms/step - loss: 1.6009 - accuracy: 0.4122\n",
      "Epoch 11/50\n",
      "1563/1563 [==============================] - 50s 32ms/step - loss: 1.5808 - accuracy: 0.4218\n",
      "Epoch 12/50\n",
      "1563/1563 [==============================] - 48s 31ms/step - loss: 1.5695 - accuracy: 0.4268\n",
      "Epoch 13/50\n",
      "1563/1563 [==============================] - 49s 31ms/step - loss: 1.5662 - accuracy: 0.4296\n",
      "Epoch 14/50\n",
      "1563/1563 [==============================] - 50s 32ms/step - loss: 1.5629 - accuracy: 0.4314\n",
      "Epoch 15/50\n",
      "1563/1563 [==============================] - 50s 32ms/step - loss: 1.5599 - accuracy: 0.4340\n",
      "Epoch 16/50\n",
      "1563/1563 [==============================] - 49s 32ms/step - loss: 1.5509 - accuracy: 0.4338\n",
      "Epoch 17/50\n",
      "1563/1563 [==============================] - 50s 32ms/step - loss: 1.5534 - accuracy: 0.4370\n",
      "Epoch 18/50\n",
      "1563/1563 [==============================] - 44s 28ms/step - loss: 1.5527 - accuracy: 0.4370\n",
      "Epoch 19/50\n",
      "1563/1563 [==============================] - 54s 35ms/step - loss: 1.5393 - accuracy: 0.4436\n",
      "Epoch 20/50\n",
      "1563/1563 [==============================] - 42s 27ms/step - loss: 1.5473 - accuracy: 0.4382\n",
      "Epoch 21/50\n",
      "1563/1563 [==============================] - 41s 26ms/step - loss: 1.5448 - accuracy: 0.4388\n",
      "Epoch 22/50\n",
      "1563/1563 [==============================] - 41s 26ms/step - loss: 1.5321 - accuracy: 0.4433\n",
      "Epoch 23/50\n",
      "1563/1563 [==============================] - 41s 26ms/step - loss: 1.5291 - accuracy: 0.4455\n",
      "Epoch 24/50\n",
      "1563/1563 [==============================] - 42s 27ms/step - loss: 1.5298 - accuracy: 0.4480\n",
      "Epoch 25/50\n",
      "1563/1563 [==============================] - 42s 27ms/step - loss: 1.5373 - accuracy: 0.4437\n",
      "Epoch 26/50\n",
      "1563/1563 [==============================] - 42s 27ms/step - loss: 1.5118 - accuracy: 0.4492\n",
      "Epoch 27/50\n",
      "1563/1563 [==============================] - 42s 27ms/step - loss: 1.5182 - accuracy: 0.4475\n",
      "Epoch 28/50\n",
      "1563/1563 [==============================] - 43s 28ms/step - loss: 1.5067 - accuracy: 0.4533\n",
      "Epoch 29/50\n",
      "1563/1563 [==============================] - 42s 27ms/step - loss: 1.5023 - accuracy: 0.4588\n",
      "Epoch 30/50\n",
      "1563/1563 [==============================] - 42s 27ms/step - loss: 1.5076 - accuracy: 0.4529\n",
      "Epoch 31/50\n",
      "1563/1563 [==============================] - 41s 27ms/step - loss: 1.4974 - accuracy: 0.4582\n",
      "Epoch 32/50\n",
      "1563/1563 [==============================] - 666s 426ms/step - loss: 1.4881 - accuracy: 0.4617\n",
      "Epoch 33/50\n",
      "1563/1563 [==============================] - 62s 40ms/step - loss: 1.4798 - accuracy: 0.4657\n",
      "Epoch 34/50\n",
      "1563/1563 [==============================] - 66s 42ms/step - loss: 1.4867 - accuracy: 0.4667\n",
      "Epoch 35/50\n",
      "1563/1563 [==============================] - 54s 35ms/step - loss: 1.4760 - accuracy: 0.4683\n",
      "Epoch 36/50\n",
      "1563/1563 [==============================] - 52s 33ms/step - loss: 1.4754 - accuracy: 0.4682\n",
      "Epoch 37/50\n",
      "1563/1563 [==============================] - 51s 32ms/step - loss: 1.4692 - accuracy: 0.4707\n",
      "Epoch 38/50\n",
      "1563/1563 [==============================] - 65s 41ms/step - loss: 1.4742 - accuracy: 0.4715\n",
      "Epoch 39/50\n",
      "1563/1563 [==============================] - 50s 32ms/step - loss: 1.4703 - accuracy: 0.4704\n",
      "Epoch 40/50\n",
      "1563/1563 [==============================] - 54s 35ms/step - loss: 1.4745 - accuracy: 0.4681\n",
      "Epoch 41/50\n",
      "1563/1563 [==============================] - 56s 36ms/step - loss: 1.4683 - accuracy: 0.4726\n",
      "Epoch 42/50\n",
      "1563/1563 [==============================] - 56s 36ms/step - loss: 1.4641 - accuracy: 0.4743\n",
      "Epoch 43/50\n",
      "1563/1563 [==============================] - 57s 37ms/step - loss: 1.4658 - accuracy: 0.4746\n",
      "Epoch 44/50\n",
      "1563/1563 [==============================] - 57s 36ms/step - loss: 1.4648 - accuracy: 0.4728\n",
      "Epoch 45/50\n",
      "1563/1563 [==============================] - 57s 36ms/step - loss: 1.4598 - accuracy: 0.4766\n",
      "Epoch 46/50\n",
      "1563/1563 [==============================] - 55s 35ms/step - loss: 1.4608 - accuracy: 0.4746\n",
      "Epoch 47/50\n",
      "1563/1563 [==============================] - 54s 34ms/step - loss: 1.4613 - accuracy: 0.4775\n",
      "Epoch 48/50\n",
      "1563/1563 [==============================] - 53s 34ms/step - loss: 1.4666 - accuracy: 0.4749\n",
      "Epoch 49/50\n",
      "1563/1563 [==============================] - 54s 34ms/step - loss: 1.4567 - accuracy: 0.4760\n",
      "Epoch 50/50\n",
      "1563/1563 [==============================] - 52s 33ms/step - loss: 1.4503 - accuracy: 0.4821\n"
     ]
    }
   ],
   "source": [
    "model_history  = model.fit(train_images,train_labels,batch_size=32,epochs=50)"
   ]
  },
  {
   "cell_type": "code",
   "execution_count": 21,
   "id": "8f5aa0b3",
   "metadata": {},
   "outputs": [
    {
     "name": "stdout",
     "output_type": "stream",
     "text": [
      "313/313 [==============================] - 4s 11ms/step - loss: 1.4828 - accuracy: 0.4661\n"
     ]
    }
   ],
   "source": [
    "model_loss,model_acc = model.evaluate(test_images,test_labels)"
   ]
  },
  {
   "cell_type": "code",
   "execution_count": 29,
   "id": "b2d59712",
   "metadata": {},
   "outputs": [
    {
     "name": "stdout",
     "output_type": "stream",
     "text": [
      "model accuracy is : 46.61%\n"
     ]
    }
   ],
   "source": [
    "print('model accuracy is : {:0.2f}%'.format(model_acc*100))"
   ]
  },
  {
   "cell_type": "markdown",
   "id": "4d2c20da",
   "metadata": {},
   "source": [
    "testing with one sample image from test_images"
   ]
  },
  {
   "cell_type": "code",
   "execution_count": 84,
   "id": "1f38a4bc",
   "metadata": {},
   "outputs": [],
   "source": [
    "test_image = test_images[3].reshape(1,32,32,3) #getting random image from the test_images"
   ]
  },
  {
   "cell_type": "code",
   "execution_count": 85,
   "id": "7dcce210",
   "metadata": {},
   "outputs": [
    {
     "name": "stdout",
     "output_type": "stream",
     "text": [
      "1/1 [==============================] - 0s 37ms/step\n"
     ]
    }
   ],
   "source": [
    "pred_img = model.predict(test_image)"
   ]
  },
  {
   "cell_type": "code",
   "execution_count": 86,
   "id": "104bbe8d",
   "metadata": {},
   "outputs": [
    {
     "data": {
      "text/plain": [
       "array([[-0.7874742 , -0.17256951, -3.4590938 , -4.0243425 , -3.7182405 ,\n",
       "        -3.7574458 , -3.6468554 , -6.0484133 ,  0.9535388 , -0.7632021 ]],\n",
       "      dtype=float32)"
      ]
     },
     "execution_count": 86,
     "metadata": {},
     "output_type": "execute_result"
    }
   ],
   "source": [
    "pred_img"
   ]
  },
  {
   "cell_type": "code",
   "execution_count": 87,
   "id": "0751c7e5",
   "metadata": {},
   "outputs": [
    {
     "data": {
      "text/plain": [
       "8"
      ]
     },
     "execution_count": 87,
     "metadata": {},
     "output_type": "execute_result"
    }
   ],
   "source": [
    "import numpy as np\n",
    "np.argmax(pred_img) # getting label 8 as predicted output"
   ]
  },
  {
   "cell_type": "code",
   "execution_count": 89,
   "id": "b7130bcf",
   "metadata": {},
   "outputs": [
    {
     "data": {
      "text/plain": [
       "array([0], dtype=uint8)"
      ]
     },
     "execution_count": 89,
     "metadata": {},
     "output_type": "execute_result"
    }
   ],
   "source": [
    "test_labels[3] # label from the test dataset corresponding to the input image"
   ]
  },
  {
   "cell_type": "code",
   "execution_count": 90,
   "id": "008cf1ef",
   "metadata": {},
   "outputs": [
    {
     "data": {
      "text/plain": [
       "<matplotlib.image.AxesImage at 0x23cfa5fa250>"
      ]
     },
     "execution_count": 90,
     "metadata": {},
     "output_type": "execute_result"
    },
    {
     "data": {
      "image/png": "[encoded data removed]",
      "text/plain": [
       "<Figure size 640x480 with 1 Axes>"
      ]
     },
     "metadata": {},
     "output_type": "display_data"
    }
   ],
   "source": [
    "from matplotlib import pyplot as plt\n",
    "plt.imshow(test_images[3]) #testing image"
   ]
  },
  {
   "cell_type": "code",
   "execution_count": 91,
   "id": "a0ecc559",
   "metadata": {},
   "outputs": [
    {
     "data": {
      "text/plain": [
       "<matplotlib.image.AxesImage at 0x23cfa609550>"
      ]
     },
     "execution_count": 91,
     "metadata": {},
     "output_type": "execute_result"
    },
    {
     "data": {
      "image/png": "[encoded data removed]",
      "text/plain": [
       "<Figure size 640x480 with 1 Axes>"
      ]
     },
     "metadata": {},
     "output_type": "display_data"
    }
   ],
   "source": [
    "plt.imshow(test_images[8]) # predicted image"
   ]
  },
  {
   "cell_type": "code",
   "execution_count": null,
   "id": "a34f2965",
   "metadata": {},
   "outputs": [],
   "source": []
  }
 ],
 "metadata": {
  "kernelspec": {
   "display_name": "Python 3 (ipykernel)",
   "language": "python",
   "name": "python3"
  },
  "language_info": {
   "codemirror_mode": {
    "name": "ipython",
    "version": 3
   },
   "file_extension": ".py",
   "mimetype": "text/x-python",
   "name": "python",
   "nbconvert_exporter": "python",
   "pygments_lexer": "ipython3",
   "version": "3.9.13"
  }
 },
 "nbformat": 4,
 "nbformat_minor": 5
}
